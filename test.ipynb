{
 "cells": [
  {
   "cell_type": "code",
   "execution_count": 67,
   "id": "7d190c20",
   "metadata": {},
   "outputs": [
    {
     "name": "stderr",
     "output_type": "stream",
     "text": [
      "Clipping input data to the valid range for imshow with RGB data ([0..1] for floats or [0..255] for integers). Got range [0.0..9.81830334560877].\n"
     ]
    },
    {
     "name": "stdout",
     "output_type": "stream",
     "text": [
      "nan\n",
      "[0.         0.         0.95275097]\n"
     ]
    },
    {
     "data": {
      "image/png": "[encoded data removed]",
      "text/plain": [
       "<Figure size 640x480 with 1 Axes>"
      ]
     },
     "metadata": {},
     "output_type": "display_data"
    }
   ],
   "source": [
    "import grn\n",
    "import numpy as np\n",
    "import matplotlib.pyplot as plt\n",
    "\n",
    "\n",
    "g = grn.GRN()\n",
    "nin = 2\n",
    "nout = 3\n",
    "\n",
    "g.random(nin=nin, nout=nout, nreg=0)\n",
    "\n",
    "N = 480\n",
    "\n",
    "\n",
    "matrix = np.zeros((N,N,3))\n",
    "\n",
    "for i in range(N):\n",
    "    for j in range(N):\n",
    "        g.set_input([i, j])\n",
    "        g.step()   \n",
    "        out = g.get_output()\n",
    "        # if max(out) > 1:\n",
    "        #     print(\"wtf\")\n",
    "        # print(out)\n",
    "        matrix[i][j] = out\n",
    "\n",
    "\n",
    "print(np.max(matrix[0][0]))\n",
    "plt.imshow(matrix*10)\n",
    "\n",
    "print(out)\n",
    "# plt.savefig(\"test.png\")"
   ]
  },
  {
   "cell_type": "code",
   "execution_count": null,
   "id": "4243351b",
   "metadata": {},
   "outputs": [
    {
     "data": {
      "text/plain": [
       "1.0"
      ]
     },
     "execution_count": 4,
     "metadata": {},
     "output_type": "execute_result"
    }
   ],
   "source": []
  },
  {
   "cell_type": "code",
   "execution_count": null,
   "id": "f554c1ad",
   "metadata": {},
   "outputs": [
    {
     "name": "stdout",
     "output_type": "stream",
     "text": [
      "[2, 3, 0, 0.6796434914575574, 1.0830441520084637, 0, 1, 1, 0.68140467, 0.05245502, 0.72377252, 0.38260298, 0.9576984, 0.22415276, 0.18545691, 0.04441582, 0.88123756, 0.69290689]\n"
     ]
    },
    {
     "ename": "ValueError",
     "evalue": "cannot compute fingerprint of empty list",
     "output_type": "error",
     "traceback": [
      "\u001b[31m---------------------------------------------------------------------------\u001b[39m",
      "\u001b[31mValueError\u001b[39m                                Traceback (most recent call last)",
      "\u001b[36mCell\u001b[39m\u001b[36m \u001b[39m\u001b[32mIn[11]\u001b[39m\u001b[32m, line 9\u001b[39m\n\u001b[32m      6\u001b[39m \u001b[38;5;28mprint\u001b[39m(genome)\n\u001b[32m      8\u001b[39m tg = grn.GRN()\n\u001b[32m----> \u001b[39m\u001b[32m9\u001b[39m \u001b[43mtg\u001b[49m\u001b[43m.\u001b[49m\u001b[43mfrom_genome\u001b[49m\u001b[43m(\u001b[49m\u001b[43mgenome\u001b[49m\u001b[43m)\u001b[49m\n",
      "\u001b[36mFile \u001b[39m\u001b[32m~/Documents/AGRN/grn.py:119\u001b[39m, in \u001b[36mGRN.from_genome\u001b[39m\u001b[34m(self, genome)\u001b[39m\n\u001b[32m    116\u001b[39m \u001b[38;5;28mself\u001b[39m.enhancers = genome[enh_start:enh_end]\n\u001b[32m    117\u001b[39m \u001b[38;5;28mself\u001b[39m.inhibiters = genome[inh_start:inh_end]\n\u001b[32m--> \u001b[39m\u001b[32m119\u001b[39m \u001b[38;5;28;43mself\u001b[39;49m\u001b[43m.\u001b[49m\u001b[43msetup\u001b[49m\u001b[43m(\u001b[49m\u001b[43m)\u001b[49m\n",
      "\u001b[36mFile \u001b[39m\u001b[32m~/Documents/AGRN/grn.py:56\u001b[39m, in \u001b[36mGRN.setup\u001b[39m\u001b[34m(self)\u001b[39m\n\u001b[32m     55\u001b[39m \u001b[38;5;28;01mdef\u001b[39;00m\u001b[38;5;250m \u001b[39m\u001b[34msetup\u001b[39m(\u001b[38;5;28mself\u001b[39m):\n\u001b[32m---> \u001b[39m\u001b[32m56\u001b[39m     \u001b[38;5;28mself\u001b[39m.enh_afinity_matrix, \u001b[38;5;28mself\u001b[39m.inh_affinity_matrix = \u001b[43mcompute_proteins_afinity\u001b[49m\u001b[43m(\u001b[49m\u001b[38;5;28;43mself\u001b[39;49m\u001b[43m.\u001b[49m\u001b[43midentifiers\u001b[49m\u001b[43m,\u001b[49m\u001b[43m \u001b[49m\u001b[38;5;28;43mself\u001b[39;49m\u001b[43m.\u001b[49m\u001b[43minhibiters\u001b[49m\u001b[43m,\u001b[49m\u001b[43m \u001b[49m\u001b[38;5;28;43mself\u001b[39;49m\u001b[43m.\u001b[49m\u001b[43mconcentrations\u001b[49m\u001b[43m,\u001b[49m\u001b[43m \u001b[49m\u001b[38;5;28;43mself\u001b[39;49m\u001b[43m.\u001b[49m\u001b[43midsize\u001b[49m\u001b[43m,\u001b[49m\u001b[43m \u001b[49m\u001b[38;5;28;43mself\u001b[39;49m\u001b[43m.\u001b[49m\u001b[43mbeta\u001b[49m\u001b[43m,\u001b[49m\u001b[43m \u001b[49m\u001b[38;5;28;43mself\u001b[39;49m\u001b[43m.\u001b[49m\u001b[43ma\u001b[49m\u001b[43m,\u001b[49m\u001b[43m \u001b[49m\u001b[38;5;28;43mself\u001b[39;49m\u001b[43m.\u001b[49m\u001b[43mf\u001b[49m\u001b[43m)\u001b[49m\n\u001b[32m     57\u001b[39m     \u001b[38;5;28mself\u001b[39m.reset()\n",
      "\u001b[31mValueError\u001b[39m: cannot compute fingerprint of empty list"
     ]
    }
   ],
   "source": [
    "str(g)\n",
    "g.dict_grn# to end \n",
    "# for key in g.dict_grn:\n",
    "#     print(g.dict_grn[key], end=\" \")\n",
    "genome = [2, 3, 0, 0.6796434914575574, 1.0830441520084637, 0, 1, 1, 0.68140467, 0.05245502, 0.72377252 ,0.38260298, 0.9576984, 0.22415276, 0.18545691, 0.04441582, 0.88123756, 0.69290689] \n",
    "[in, out, reg, beta, delta, a, f, idsize, identifiers, enhancers, inhibiters]\n",
    "print(genome)\n",
    "\n",
    "tg = grn.GRN()\n",
    "tg.from_genome(genome)"
   ]
  }
 ],
 "metadata": {
  "kernelspec": {
   "display_name": "smartdart3.11",
   "language": "python",
   "name": "python3"
  },
  "language_info": {
   "codemirror_mode": {
    "name": "ipython",
    "version": 3
   },
   "file_extension": ".py",
   "mimetype": "text/x-python",
   "name": "python",
   "nbconvert_exporter": "python",
   "pygments_lexer": "ipython3",
   "version": "3.11.5"
  }
 },
 "nbformat": 4,
 "nbformat_minor": 5
}
